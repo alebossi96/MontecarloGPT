{
 "cells": [
  {
   "cell_type": "code",
   "execution_count": 1,
   "metadata": {},
   "outputs": [
    {
     "name": "stdout",
     "output_type": "stream",
     "text": [
      "Using matplotlib backend: Qt5Agg\n"
     ]
    }
   ],
   "source": [
    "%matplotlib\n",
    "import numpy as np\n",
    "import equations as equ\n",
    "from scipy.optimize import fsolve\n",
    "import math\n",
    "from  librerieTesi.diffuseRaman import core\n",
    "from librerieTesi.read_dat import read_dat\n",
    "import matplotlib.pyplot as plt\n",
    "import pandas as pd\n",
    "from scipy.optimize import leastsq\n",
    "import core_functions as cf\n",
    "from scipy.special import iv\n",
    "v = 29.97925/1.4\n",
    "pi = math.pi\n",
    "exp =np.exp\n",
    "log = np.log    \n",
    "sqrt = np.sqrt\n",
    "mu_s = 10"
   ]
  },
  {
   "cell_type": "code",
   "execution_count": 2,
   "metadata": {},
   "outputs": [],
   "source": [
    "mu_s = 10"
   ]
  },
  {
   "cell_type": "code",
   "execution_count": 13,
   "metadata": {},
   "outputs": [],
   "source": [
    "dt = 1e-4 #ns\n",
    "time = np.arange(0,1e5)*dt\n",
    "data = []\n",
    "with open(\"TPSF_2.txt\", \"r\") as f:\n",
    "  for line in f:\n",
    "    data.append(int(line.strip()))\n",
    "data = np.array(data)\n",
    "#plt.yscale(\"log\")\n"
   ]
  },
  {
   "cell_type": "code",
   "execution_count": 14,
   "metadata": {},
   "outputs": [
    {
     "data": {
      "text/plain": [
       "array([0.0000e+00, 1.0000e-04, 2.0000e-04, ..., 9.9997e+00, 9.9998e+00,\n",
       "       9.9999e+00])"
      ]
     },
     "execution_count": 14,
     "metadata": {},
     "output_type": "execute_result"
    }
   ],
   "source": [
    "time"
   ]
  },
  {
   "cell_type": "markdown",
   "metadata": {},
   "source": [
    "caso $\\mu_a$ = 0"
   ]
  },
  {
   "cell_type": "code",
   "execution_count": 15,
   "metadata": {},
   "outputs": [],
   "source": [
    "def te_c(t, rho, mu_s):\n",
    "    #C = (mu_s/3)**(3/2)/(8*math.pi*v)\n",
    "    #z_e = 2*z_e\n",
    "    C = (v/(8*pi))*(3*mu_s**2)**(3/2)\n",
    "    x = (t*v*mu_s)**2-3*rho**2*mu_s**2\n",
    "    \n",
    "    set_zero = x<=0\n",
    "    x = sqrt(x)\n",
    "    res = C*iv(1,x/2) * np.exp(-t*v*mu_s/2)/x\n",
    "    res[set_zero] = 0\n",
    "    use_exp = (x/2)> 100\n",
    "    res_exp = te_1(t, rho, mu_s)\n",
    "    res[use_exp] = res_exp[use_exp]\n",
    "    return res\n",
    "def te_1(t,rho,  mu_s):\n",
    "    #z_e = 2*z_e\n",
    "    C = (v/(8*pi))*(3*mu_s**2)**(3/2)\n",
    "    x = (t*v*mu_s)**2-3*rho**2*mu_s**2 \n",
    "    x = sqrt(x)\n",
    "    mbf = lambda x , x2 : exp(x-x2)/sqrt(2*pi*x)\n",
    "    return  C*mbf(x/2, t*v*mu_s/2)/x"
   ]
  },
  {
   "cell_type": "markdown",
   "metadata": {},
   "source": []
  },
  {
   "cell_type": "code",
   "execution_count": 16,
   "metadata": {},
   "outputs": [],
   "source": [
    "import latexify"
   ]
  },
  {
   "cell_type": "code",
   "execution_count": 22,
   "metadata": {},
   "outputs": [
    {
     "data": {
      "text/html": [
       "<span style=\"color: red;\">LatexifyNotSupportedError: Codegen supports only Assign nodes in multiline functions, but got: If</span>"
      ],
      "text/latex": [
       "LatexifyNotSupportedError: Codegen supports only Assign nodes in multiline functions, but got: If"
      ],
      "text/plain": [
       "<latexify.frontend.LatexifiedFunction at 0x7fdfe54fef10>"
      ]
     },
     "execution_count": 22,
     "metadata": {},
     "output_type": "execute_result"
    }
   ],
   "source": [
    "@latexify.function\n",
    "\n",
    "def diff_eq(t, r, mu_s):\n",
    "    D = 1/(3*mu_s)\n",
    "    res = v/(4*pi*D*v*t)**(3/2)*exp(-r**2/(4*D*v*t))\n",
    "    if t[0] == 0:\n",
    "        res[0] = 0\n",
    "    return res\n",
    "diff_eq"
   ]
  },
  {
   "cell_type": "code",
   "execution_count": 18,
   "metadata": {},
   "outputs": [
    {
     "data": {
      "text/latex": [
       "$$ \\displaystyle \\begin{array}{l} C = \\frac{v}{{8} pi} \\left( {3} mu_s^{{2}} \\right)^{\\frac{{3}}{{2}}} \\\\ x = \\left( t v mu_s \\right)^{{2}} - {3} rho^{{2}} mu_s^{{2}} \\\\ x = \\sqrt{x} \\\\ res = \\frac{C \\mathrm{iv}\\left({1}, \\frac{\\sqrt{\\left( t v mu_s \\right)^{{2}} - {3} rho^{{2}} mu_s^{{2}}}}{{2}}\\right) \\exp{\\left({\\frac{-t v mu_s}{{2}}}\\right)}}{\\sqrt{\\left( t v mu_s \\right)^{{2}} - {3} rho^{{2}} mu_s^{{2}}}} \\\\ \\mathrm{te_c}(t, rho, mu_s) = res \\end{array} $$"
      ],
      "text/plain": [
       "<latexify.frontend.LatexifiedFunction at 0x7fdfe4565400>"
      ]
     },
     "execution_count": 18,
     "metadata": {},
     "output_type": "execute_result"
    }
   ],
   "source": [
    "@latexify.function\n",
    "def te_c(t, rho, mu_s):\n",
    "    #C = (mu_s/3)**(3/2)/(8*math.pi*v)\n",
    "    #z_e = 2*z_e\n",
    "    C = (v/(8*pi))*(3*mu_s**2)**(3/2)\n",
    "    x = (t*v*mu_s)**2-3*(rho**2)*mu_s**2\n",
    "    x = sqrt(x)\n",
    "    res = C*iv(1,sqrt((t*v*mu_s)**2-3*(rho**2)*mu_s**2)/2) * np.exp(-t*v*mu_s/2)/sqrt((t*v*mu_s)**2-3*(rho**2)*mu_s**2)\n",
    "    return res\n",
    "te_c"
   ]
  },
  {
   "cell_type": "code",
   "execution_count": 19,
   "metadata": {},
   "outputs": [],
   "source": [
    "def te_M(t, rho, mu_s):\n",
    "    C = v*(3*mu_s)**3/(8*pi)\n",
    "    \n",
    "    x = (t*v*3*mu_s)**2-(rho**2**2)*(3*mu_s)**2\n",
    "    #plt.plot(sqrt(x)/2-t*v*(3*mu_s)/2)\n",
    "    if np.isscalar(x):\n",
    "        if x<=0:\n",
    "            return 0     \n",
    "        x = sqrt(x)\n",
    "        if (x/2)> 100    :\n",
    "            return te_M_1(t, rho, mu_s)\n",
    "        res = C*iv(1,x/2) * np.exp(-t*v*3*mu_s/2)/x\n",
    "        return res\n",
    "    set_zero = x<=0\n",
    "    x = sqrt(x)\n",
    "    res = C*iv(1,x/2) * np.exp(-t*v*3*mu_s/2)/x\n",
    "    res[set_zero] = 0\n",
    "    use_exp = (x/2)> 100\n",
    "    res_exp = te_M_1(t, rho, mu_s)\n",
    "    res[use_exp] = res_exp[use_exp]\n",
    "    return res\n",
    "def te_M_1(t,rho,  mu_s):\n",
    "    #z_e = 2*z_e\n",
    "    C = v*(3*mu_s)**3/(8*pi**(3/2))\n",
    "    x = (t*v*3*mu_s)**2-rho**2*(3*mu_s)**2 \n",
    "    #mbf = lambda x , x2 : exp(x-x2)/sqrt(2*pi*x)\n",
    "    return  C*exp(sqrt(x)/2-(3*mu_s*v*t)/2)/x**(3/4)#C* mbf(x/2, t*v*3*mu_s/2)/x"
   ]
  },
  {
   "cell_type": "code",
   "execution_count": 24,
   "metadata": {},
   "outputs": [
    {
     "name": "stderr",
     "output_type": "stream",
     "text": [
      "/tmp/ipykernel_28158/1876106633.py:5: RuntimeWarning: divide by zero encountered in true_divide\n",
      "  res = v/(4*pi*D*v*t)**(5/2)*exp(-r**2/(4*D*v*t))\n",
      "/tmp/ipykernel_28158/1876106633.py:5: RuntimeWarning: invalid value encountered in true_divide\n",
      "  res = v/(4*pi*D*v*t)**(5/2)*exp(-r**2/(4*D*v*t))\n",
      "/tmp/ipykernel_28158/472906624.py:8: RuntimeWarning: overflow encountered in multiply\n",
      "  res = C*iv(1,sqrt((t*v*mu_s)**2-3*(rho**2)*mu_s**2)/2) * np.exp(-t*v*mu_s/2)/sqrt((t*v*mu_s)**2-3*(rho**2)*mu_s**2)\n",
      "/tmp/ipykernel_28158/472906624.py:8: RuntimeWarning: invalid value encountered in multiply\n",
      "  res = C*iv(1,sqrt((t*v*mu_s)**2-3*(rho**2)*mu_s**2)/2) * np.exp(-t*v*mu_s/2)/sqrt((t*v*mu_s)**2-3*(rho**2)*mu_s**2)\n",
      "/tmp/ipykernel_28158/472906624.py:8: RuntimeWarning: invalid value encountered in true_divide\n",
      "  res = C*iv(1,sqrt((t*v*mu_s)**2-3*(rho**2)*mu_s**2)/2) * np.exp(-t*v*mu_s/2)/sqrt((t*v*mu_s)**2-3*(rho**2)*mu_s**2)\n",
      "/tmp/ipykernel_28158/1139326942.py:16: RuntimeWarning: overflow encountered in multiply\n",
      "  res = C*iv(1,x/2) * np.exp(-t*v*3*mu_s/2)/x\n",
      "/tmp/ipykernel_28158/1139326942.py:16: RuntimeWarning: invalid value encountered in multiply\n",
      "  res = C*iv(1,x/2) * np.exp(-t*v*3*mu_s/2)/x\n",
      "/tmp/ipykernel_28158/1139326942.py:16: RuntimeWarning: invalid value encountered in true_divide\n",
      "  res = C*iv(1,x/2) * np.exp(-t*v*3*mu_s/2)/x\n",
      "/tmp/ipykernel_28158/1139326942.py:27: RuntimeWarning: divide by zero encountered in true_divide\n",
      "  return  C*exp(sqrt(x)/2-(3*mu_s*v*t)/2)/x**(3/4)#C* mbf(x/2, t*v*3*mu_s/2)/x\n"
     ]
    }
   ],
   "source": [
    "res = diff_eq(time, 0, mu_s)\n",
    "res_te = te_c(time, 0, mu_s)\n",
    "res_teM = te_M(time, 0, mu_s)\n",
    "for b in [10]:\n",
    "    plt.figure()\n",
    "    plt.plot(time,res/np.sum(res[b:]))\n",
    "    #plt.plot(time,res_te/np.sum(res_te[b:]) )\n",
    "    #plt.plot(time,res_te/np.sum(res_teM[b:]) )\n",
    "    plt.plot(time,data/np.sum(data[b:]))\n",
    "    plt.yscale('log')\n",
    "    plt.show()\n"
   ]
  },
  {
   "cell_type": "code",
   "execution_count": 173,
   "metadata": {},
   "outputs": [],
   "source": [
    "def derivative(x,y):\n",
    "    dx = x[1]-x[0]\n",
    "    return np.gradient(y, dx)\n",
    "d_de_dt = derivative(time, res)\n",
    "res_d_dt = res+1/(mu_s*v)*d_de_dt\n",
    "sub_zero = res_d_dt<0\n",
    "t_min = 0\n",
    "for i in range(len(res_d_dt)):\n",
    "    if res_d_dt[i]<0 and time[i]< 0.1:\n",
    "        t_min = i\n",
    "sub_zero = time<=time[t_min]\n",
    "res_d_dt[sub_zero] = 0\n",
    "conv_mat = core.conv_matrix(exp(-mu_s*v*time), len(time))\n",
    "res_exp = np.matmul(conv_mat, res)"
   ]
  },
  {
   "cell_type": "code",
   "execution_count": 195,
   "metadata": {},
   "outputs": [
    {
     "data": {
      "text/plain": [
       "<matplotlib.legend.Legend at 0x7f20e0c0fe50>"
      ]
     },
     "execution_count": 195,
     "metadata": {},
     "output_type": "execute_result"
    }
   ],
   "source": [
    "for mu_s in [5,10, 15,20]:\n",
    "    def derivative(x,y):\n",
    "        dx = x[1]-x[0]\n",
    "        return np.gradient(y, dx)\n",
    "    d_de_dt = derivative(time, res)\n",
    "    res_d_dt = res+1/(mu_s*v)*d_de_dt\n",
    "    t_min = 0\n",
    "    for i in range(len(res_d_dt)):\n",
    "        if res_d_dt[i]<0:\n",
    "            t_min = i\n",
    "    sub_zero = time<=time[t_min]\n",
    "    res_d_dt[sub_zero] = 0\n",
    "    plt.plot(time,res_d_dt/np.sum(res_d_dt), label = str(mu_s))\n",
    "plt.yscale('log')\n",
    "plt.legend()"
   ]
  },
  {
   "cell_type": "code",
   "execution_count": 176,
   "metadata": {},
   "outputs": [],
   "source": [
    "def derivative(x,y):\n",
    "    dx = x[1]-x[0]\n",
    "    return np.gradient(y, dx)\n",
    "d_de_dt = derivative(time, res)\n",
    "res_d_dt = res-1/(mu_s*v)*d_de_dt\n",
    "sub_zero = res_d_dt<0\n",
    "res_d_dt[sub_zero] = 0\n",
    "conv_mat = core.conv_matrix(exp(-mu_s*v*time), len(time))\n",
    "res_exp = np.matmul(conv_mat, res)"
   ]
  },
  {
   "cell_type": "code",
   "execution_count": 194,
   "metadata": {},
   "outputs": [
    {
     "name": "stderr",
     "output_type": "stream",
     "text": [
      "/tmp/ipykernel_5256/2292413621.py:9: RuntimeWarning: invalid value encountered in true_divide\n",
      "  res = C*iv(1,x/2) * np.exp(-t*v*mu_s/2)/x\n",
      "/tmp/ipykernel_5256/2292413621.py:20: RuntimeWarning: divide by zero encountered in true_divide\n",
      "  mbf = lambda x , x2 : exp(x-x2)/sqrt(2*pi*x)\n",
      "/tmp/ipykernel_5256/2292413621.py:9: RuntimeWarning: invalid value encountered in true_divide\n",
      "  res = C*iv(1,x/2) * np.exp(-t*v*mu_s/2)/x\n",
      "/tmp/ipykernel_5256/2292413621.py:20: RuntimeWarning: divide by zero encountered in true_divide\n",
      "  mbf = lambda x , x2 : exp(x-x2)/sqrt(2*pi*x)\n",
      "/tmp/ipykernel_5256/2292413621.py:9: RuntimeWarning: invalid value encountered in true_divide\n",
      "  res = C*iv(1,x/2) * np.exp(-t*v*mu_s/2)/x\n",
      "/tmp/ipykernel_5256/2292413621.py:20: RuntimeWarning: divide by zero encountered in true_divide\n",
      "  mbf = lambda x , x2 : exp(x-x2)/sqrt(2*pi*x)\n",
      "/tmp/ipykernel_5256/2292413621.py:9: RuntimeWarning: invalid value encountered in true_divide\n",
      "  res = C*iv(1,x/2) * np.exp(-t*v*mu_s/2)/x\n",
      "/tmp/ipykernel_5256/2292413621.py:20: RuntimeWarning: divide by zero encountered in true_divide\n",
      "  mbf = lambda x , x2 : exp(x-x2)/sqrt(2*pi*x)\n"
     ]
    },
    {
     "data": {
      "text/plain": [
       "<matplotlib.legend.Legend at 0x7f20e0477be0>"
      ]
     },
     "execution_count": 194,
     "metadata": {},
     "output_type": "execute_result"
    }
   ],
   "source": [
    "for mu_s in [5,10, 15,20]:\n",
    "    def derivative(x,y):\n",
    "        dx = x[1]-x[0]\n",
    "        return np.gradient(y, dx)\n",
    "    d_de_dt = derivative(time, res)\n",
    "    res_d_dt = res-1/(mu_s*v)*d_de_dt\n",
    "    sub_zero = res_d_dt<0\n",
    "    res_d_dt[sub_zero] = 0\n",
    "    conv_mat = core.conv_matrix(exp(-mu_s*v*time), len(time))\n",
    "    res_exp = np.matmul(conv_mat, res)\n",
    "    te = te_c(time, 0, mu_s)\n",
    "    plt.plot(time,te/np.sum(te), label = str(mu_s))\n",
    "plt.yscale('log')\n",
    "plt.legend()"
   ]
  },
  {
   "cell_type": "code",
   "execution_count": 177,
   "metadata": {},
   "outputs": [],
   "source": [
    "for b in [1]:\n",
    "    #plt.figure()\n",
    "    #plt.plot(time,res/np.sum(res[b:]), label = \"de10\")\n",
    "    plt.plot(time,res_d_dt/np.sum(res_d_dt[b:]), label = \"corr10\")\n",
    "    plt.plot(time,data/np.sum(data[b:]), label = \"data10\")\n",
    "    #plt.plot(time,res_exp/np.sum(res_exp[b:]), label = \"exp\")\n",
    "    plt.yscale('log')\n",
    "    #plt.xlim(left = -0.01, right = 0.1)\n",
    "    #plt.ylim(bottom = 1e-2)\n",
    "    plt.legend()\n",
    "    #plt.show()"
   ]
  },
  {
   "cell_type": "code",
   "execution_count": 117,
   "metadata": {},
   "outputs": [
    {
     "data": {
      "text/plain": [
       "<matplotlib.collections.PathCollection at 0x7f20e0b4cb50>"
      ]
     },
     "execution_count": 117,
     "metadata": {},
     "output_type": "execute_result"
    }
   ],
   "source": [
    "plt.figure()\n",
    "plt.yscale('log')\n",
    "plt.xlim(left = -1,right = 50)\n",
    "plt.ylim(bottom = 1e-2)\n",
    "plt.scatter(np.arange(1000),1-np.cumsum(res)/np.sum(res))\n"
   ]
  },
  {
   "cell_type": "code",
   "execution_count": 81,
   "metadata": {},
   "outputs": [],
   "source": [
    "def linsquare(data,simulation):\n",
    "    ls = []\n",
    "    for i in range(100):\n",
    "        ls.append(np.linalg.norm(data[i:]/np.sum(data[i:])-simulation[i:]/np.sum(simulation[i:])))\n",
    "    return np.array(ls)\n",
    "    "
   ]
  },
  {
   "cell_type": "code",
   "execution_count": 119,
   "metadata": {},
   "outputs": [
    {
     "data": {
      "text/plain": [
       "<matplotlib.legend.Legend at 0x7f20ec2e75e0>"
      ]
     },
     "execution_count": 119,
     "metadata": {},
     "output_type": "execute_result"
    }
   ],
   "source": [
    "plt.plot(linsquare(data,res), label = \"de\")\n",
    "plt.plot(linsquare(data,res_d_dt), label = \"derivative\")\n",
    "plt.plot(linsquare(data,res_exp), label = \"exp\")\n",
    "plt.yscale(\"log\")\n",
    "plt.legend()\n"
   ]
  },
  {
   "cell_type": "markdown",
   "metadata": {},
   "source": [
    "fare convoluzione in r"
   ]
  },
  {
   "cell_type": "code",
   "execution_count": 49,
   "metadata": {},
   "outputs": [],
   "source": [
    "b = 2\n",
    "plt.plot(time,res/np.sum(res[b:]), label = \"de\")\n",
    "plt.show()"
   ]
  },
  {
   "cell_type": "code",
   "execution_count": null,
   "metadata": {},
   "outputs": [],
   "source": []
  }
 ],
 "metadata": {
  "kernelspec": {
   "display_name": "Python 3.8.10 64-bit",
   "language": "python",
   "name": "python3"
  },
  "language_info": {
   "codemirror_mode": {
    "name": "ipython",
    "version": 3
   },
   "file_extension": ".py",
   "mimetype": "text/x-python",
   "name": "python",
   "nbconvert_exporter": "python",
   "pygments_lexer": "ipython3",
   "version": "3.8.10 (default, Nov 14 2022, 12:59:47) \n[GCC 9.4.0]"
  },
  "orig_nbformat": 4,
  "vscode": {
   "interpreter": {
    "hash": "31f2aee4e71d21fbe5cf8b01ff0e069b9275f58929596ceb00d14d90e3e16cd6"
   }
  }
 },
 "nbformat": 4,
 "nbformat_minor": 2
}
